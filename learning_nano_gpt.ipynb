{
  "nbformat": 4,
  "nbformat_minor": 0,
  "metadata": {
    "colab": {
      "provenance": [],
      "authorship_tag": "ABX9TyNz5Z/s5AuPCpW05vWOWzrt",
      "include_colab_link": true
    },
    "kernelspec": {
      "name": "python3",
      "display_name": "Python 3"
    },
    "language_info": {
      "name": "python"
    }
  },
  "cells": [
    {
      "cell_type": "markdown",
      "metadata": {
        "id": "view-in-github",
        "colab_type": "text"
      },
      "source": [
        "<a href=\"https://colab.research.google.com/github/YogeshRathee512/Machine-learning-projects/blob/main/learning_nano_gpt.ipynb\" target=\"_parent\"><img src=\"https://colab.research.google.com/assets/colab-badge.svg\" alt=\"Open In Colab\"/></a>"
      ]
    },
    {
      "cell_type": "code",
      "execution_count": 1,
      "metadata": {
        "colab": {
          "base_uri": "https://localhost:8080/"
        },
        "id": "SwHd5xdzYNzY",
        "outputId": "08fb10f2-9892-499e-fdfd-76738c7de7f0"
      },
      "outputs": [
        {
          "output_type": "stream",
          "name": "stdout",
          "text": [
            "--2025-01-25 07:35:28--  https://raw.githubusercontent.com/karpathy/char-rnn/master/data/tinyshakespeare/input.txt\n",
            "Resolving raw.githubusercontent.com (raw.githubusercontent.com)... 185.199.108.133, 185.199.111.133, 185.199.110.133, ...\n",
            "Connecting to raw.githubusercontent.com (raw.githubusercontent.com)|185.199.108.133|:443... connected.\n",
            "HTTP request sent, awaiting response... 200 OK\n",
            "Length: 1115394 (1.1M) [text/plain]\n",
            "Saving to: ‘input.txt’\n",
            "\n",
            "input.txt           100%[===================>]   1.06M  --.-KB/s    in 0.06s   \n",
            "\n",
            "2025-01-25 07:35:28 (17.1 MB/s) - ‘input.txt’ saved [1115394/1115394]\n",
            "\n"
          ]
        }
      ],
      "source": [
        "!wget https://raw.githubusercontent.com/karpathy/char-rnn/master/data/tinyshakespeare/input.txt"
      ]
    },
    {
      "cell_type": "code",
      "source": [
        "with open(\"input.txt\", \"r\",encoding ='utf-8') as f:\n",
        "  text = f.read()"
      ],
      "metadata": {
        "id": "h7QB-O2WYtvG"
      },
      "execution_count": 2,
      "outputs": []
    },
    {
      "cell_type": "code",
      "source": [
        "len(text)"
      ],
      "metadata": {
        "colab": {
          "base_uri": "https://localhost:8080/"
        },
        "id": "N0jCvsdCaKsc",
        "outputId": "649d04a2-5a68-46b0-9d1b-14304fcd1b94"
      },
      "execution_count": 5,
      "outputs": [
        {
          "output_type": "execute_result",
          "data": {
            "text/plain": [
              "1115394"
            ]
          },
          "metadata": {},
          "execution_count": 5
        }
      ]
    },
    {
      "cell_type": "code",
      "source": [
        "list(set(text))"
      ],
      "metadata": {
        "colab": {
          "base_uri": "https://localhost:8080/"
        },
        "id": "em8GvOM2bs5i",
        "outputId": "4f13a848-47ae-4c0d-83ff-71f1effdbdfb"
      },
      "execution_count": 7,
      "outputs": [
        {
          "output_type": "execute_result",
          "data": {
            "text/plain": [
              "['M',\n",
              " 'z',\n",
              " 'a',\n",
              " ';',\n",
              " 'O',\n",
              " '.',\n",
              " 'B',\n",
              " 'r',\n",
              " 'g',\n",
              " 'b',\n",
              " ',',\n",
              " ' ',\n",
              " 'A',\n",
              " 'x',\n",
              " 'Q',\n",
              " 'Z',\n",
              " '!',\n",
              " 'D',\n",
              " 'k',\n",
              " '&',\n",
              " 'e',\n",
              " 'W',\n",
              " 'G',\n",
              " 'n',\n",
              " 'N',\n",
              " 'o',\n",
              " 'I',\n",
              " '$',\n",
              " 'u',\n",
              " 'H',\n",
              " 'J',\n",
              " 'X',\n",
              " 'C',\n",
              " 'l',\n",
              " ':',\n",
              " \"'\",\n",
              " 'P',\n",
              " 'K',\n",
              " 'd',\n",
              " 'h',\n",
              " 'Y',\n",
              " 'L',\n",
              " 't',\n",
              " 'T',\n",
              " 'w',\n",
              " 'f',\n",
              " '-',\n",
              " 'i',\n",
              " '\\n',\n",
              " 'y',\n",
              " 'F',\n",
              " '3',\n",
              " 'm',\n",
              " '?',\n",
              " 'R',\n",
              " 'p',\n",
              " 'U',\n",
              " 'q',\n",
              " 'S',\n",
              " 'V',\n",
              " 's',\n",
              " 'c',\n",
              " 'E',\n",
              " 'j',\n",
              " 'v']"
            ]
          },
          "metadata": {},
          "execution_count": 7
        }
      ]
    },
    {
      "cell_type": "code",
      "source": [
        "chars = sorted(list(set(text)))\n",
        "vocab_size = len(chars)\n",
        "print(''.join(chars))\n",
        "print(vocab_size)"
      ],
      "metadata": {
        "colab": {
          "base_uri": "https://localhost:8080/"
        },
        "id": "c8l0_Hktami8",
        "outputId": "046e0d93-d5b2-4441-f4bb-61cd4a14a084"
      },
      "execution_count": 12,
      "outputs": [
        {
          "output_type": "stream",
          "name": "stdout",
          "text": [
            "\n",
            " !$&',-.3:;?ABCDEFGHIJKLMNOPQRSTUVWXYZabcdefghijklmnopqrstuvwxyz\n",
            "65\n"
          ]
        }
      ]
    },
    {
      "cell_type": "code",
      "source": [
        "stoi = {ch:i for i,ch in enumerate(chars)}"
      ],
      "metadata": {
        "id": "V5jAL2NSc5T-"
      },
      "execution_count": 13,
      "outputs": []
    },
    {
      "cell_type": "code",
      "source": [
        "itos = {i:ch for i,ch in enumerate(chars)}"
      ],
      "metadata": {
        "id": "iLrHMSy1d-Rx"
      },
      "execution_count": 15,
      "outputs": []
    },
    {
      "cell_type": "code",
      "source": [
        "encode = lambda s : [stoi[c] for c in s]\n",
        "decode = lambda l : ''.join([itos[i] for i in l])"
      ],
      "metadata": {
        "id": "qGmI-LZ3eI91"
      },
      "execution_count": 19,
      "outputs": []
    },
    {
      "cell_type": "code",
      "source": [
        "print(encode(\"hii there\"))"
      ],
      "metadata": {
        "colab": {
          "base_uri": "https://localhost:8080/"
        },
        "id": "s49-AfSwemTH",
        "outputId": "4a58f445-659f-41e1-81d5-d675303bf36b"
      },
      "execution_count": 20,
      "outputs": [
        {
          "output_type": "stream",
          "name": "stdout",
          "text": [
            "[46, 47, 47, 1, 58, 46, 43, 56, 43]\n"
          ]
        }
      ]
    },
    {
      "cell_type": "code",
      "source": [
        "import torch\n",
        "data  = torch.tensor(encode(text),dtype = torch.long)\n",
        "print(data.shape,data.dtype)\n",
        "print(data[:10])"
      ],
      "metadata": {
        "colab": {
          "base_uri": "https://localhost:8080/"
        },
        "id": "4zLwYvwOenM4",
        "outputId": "716fcf07-904e-48ed-ff7b-3bfbd79d2026"
      },
      "execution_count": 23,
      "outputs": [
        {
          "output_type": "stream",
          "name": "stdout",
          "text": [
            "torch.Size([1115394]) torch.int64\n",
            "tensor([18, 47, 56, 57, 58,  1, 15, 47, 58, 47])\n"
          ]
        }
      ]
    },
    {
      "cell_type": "code",
      "source": [
        "n = int(0.9*len(data))\n",
        "train_data = data[:n]\n",
        "val_data = data[n:]"
      ],
      "metadata": {
        "id": "9uyNrOBkrgfZ"
      },
      "execution_count": 24,
      "outputs": []
    },
    {
      "cell_type": "code",
      "source": [
        "block_size = 8\n",
        "train_data[:block_size+1]"
      ],
      "metadata": {
        "colab": {
          "base_uri": "https://localhost:8080/"
        },
        "id": "F40x48qcsZH0",
        "outputId": "24455277-ba34-4aa0-9838-efe7fe95e7b8"
      },
      "execution_count": 25,
      "outputs": [
        {
          "output_type": "execute_result",
          "data": {
            "text/plain": [
              "tensor([18, 47, 56, 57, 58,  1, 15, 47, 58])"
            ]
          },
          "metadata": {},
          "execution_count": 25
        }
      ]
    },
    {
      "cell_type": "code",
      "source": [
        "x = train_data[:block_size]\n",
        "y = train_data[1:block_size+1]"
      ],
      "metadata": {
        "id": "AWS1zrcutOsD"
      },
      "execution_count": 44,
      "outputs": []
    },
    {
      "cell_type": "code",
      "source": [
        "print(y)"
      ],
      "metadata": {
        "colab": {
          "base_uri": "https://localhost:8080/"
        },
        "id": "3cQklYmLtV5I",
        "outputId": "58ebff67-7da9-4410-9005-b67fd7d9170c"
      },
      "execution_count": 45,
      "outputs": [
        {
          "output_type": "stream",
          "name": "stdout",
          "text": [
            "tensor([47, 56, 57, 58,  1, 15, 47, 58])\n"
          ]
        }
      ]
    },
    {
      "cell_type": "code",
      "source": [
        "print(x)"
      ],
      "metadata": {
        "colab": {
          "base_uri": "https://localhost:8080/"
        },
        "id": "9ZxZDpojtXBu",
        "outputId": "36f2de8f-0452-438e-c9ea-f363105ccc59"
      },
      "execution_count": 46,
      "outputs": [
        {
          "output_type": "stream",
          "name": "stdout",
          "text": [
            "tensor([18, 47, 56, 57, 58,  1, 15, 47])\n"
          ]
        }
      ]
    },
    {
      "cell_type": "code",
      "source": [
        "for t in range(block_size):\n",
        "  context = x[:t+1]\n",
        "  target = y[t]\n",
        "  print(f\"when input is {context} the target : {target}\")"
      ],
      "metadata": {
        "colab": {
          "base_uri": "https://localhost:8080/"
        },
        "id": "UfzQreJpuDhH",
        "outputId": "ff916be9-8f0c-40f1-bf1d-7cb0c9d96eb0"
      },
      "execution_count": 47,
      "outputs": [
        {
          "output_type": "stream",
          "name": "stdout",
          "text": [
            "when input is tensor([18]) the target : 47\n",
            "when input is tensor([18, 47]) the target : 56\n",
            "when input is tensor([18, 47, 56]) the target : 57\n",
            "when input is tensor([18, 47, 56, 57]) the target : 58\n",
            "when input is tensor([18, 47, 56, 57, 58]) the target : 1\n",
            "when input is tensor([18, 47, 56, 57, 58,  1]) the target : 15\n",
            "when input is tensor([18, 47, 56, 57, 58,  1, 15]) the target : 47\n",
            "when input is tensor([18, 47, 56, 57, 58,  1, 15, 47]) the target : 58\n"
          ]
        }
      ]
    },
    {
      "cell_type": "code",
      "source": [
        "torch.manual_seed(1337)\n",
        "batch_size = 4\n",
        "block_size = 8\n",
        "\n",
        "def get_batch(split):\n",
        "  data = train_data if split == 'train' else val_data\n",
        "  ix  = torch.randint(len(data)-block_size,(batch_size,))\n",
        "  x = torch.stack([data[i:i+block_size] for i in ix])\n",
        "  y = torch.stack([data[i+1:i+block_size+1] for i in ix])\n",
        "  return x,y"
      ],
      "metadata": {
        "id": "i10xY3wjulbo"
      },
      "execution_count": 58,
      "outputs": []
    },
    {
      "cell_type": "code",
      "source": [
        "xb,yb = get_batch('train')"
      ],
      "metadata": {
        "id": "9oxBnVPyyFMF"
      },
      "execution_count": 59,
      "outputs": []
    },
    {
      "cell_type": "code",
      "source": [
        "print(xb)\n",
        "print(xb.shape)\n",
        "print(\" \")\n",
        "print('targets:')\n",
        "print(yb.shape)\n",
        "print(yb)\n",
        "print(\"----\")"
      ],
      "metadata": {
        "colab": {
          "base_uri": "https://localhost:8080/"
        },
        "id": "SNTCupGo0Ygm",
        "outputId": "4acaee2b-ae99-4f3c-8ddd-3a5cbaaa440a"
      },
      "execution_count": 65,
      "outputs": [
        {
          "output_type": "stream",
          "name": "stdout",
          "text": [
            "tensor([[24, 43, 58,  5, 57,  1, 46, 43],\n",
            "        [44, 53, 56,  1, 58, 46, 39, 58],\n",
            "        [52, 58,  1, 58, 46, 39, 58,  1],\n",
            "        [25, 17, 27, 10,  0, 21,  1, 54]])\n",
            "torch.Size([4, 8])\n",
            " \n",
            "targets:\n",
            "torch.Size([4, 8])\n",
            "tensor([[43, 58,  5, 57,  1, 46, 43, 39],\n",
            "        [53, 56,  1, 58, 46, 39, 58,  1],\n",
            "        [58,  1, 58, 46, 39, 58,  1, 46],\n",
            "        [17, 27, 10,  0, 21,  1, 54, 39]])\n",
            "----\n"
          ]
        }
      ]
    },
    {
      "cell_type": "code",
      "source": [
        "for b in range(batch_size):\n",
        "  for t in range(block_size):\n",
        "    context = xb[b, :t+1]\n",
        "    target = yb[b,t]\n",
        ""
      ],
      "metadata": {
        "id": "ej9ZKMxZ0vtd"
      },
      "execution_count": 66,
      "outputs": []
    },
    {
      "cell_type": "code",
      "source": [
        "import torch\n",
        "import torch.nn as nn\n",
        "\n",
        "from torch.nn import functional as F\n",
        "torch.manual_seed(1337)\n",
        "\n",
        "class BigramLanguageModel(nn.Model):\n",
        "\n",
        "  def __init__(self,vocab_size):\n",
        "    super().__init__()\n",
        "    self.token_embedding_table = nn.Embedding(vocab_size,vocab_size)\n",
        "\n",
        "  def forward(self,idx,target):\n",
        "    logits = self.token_embedding_table(idx)\n",
        "\n",
        "    return logits\n",
        "\n",
        "m = BigramLanguageModel(vocab_size)\n",
        "out = m(xb,yb)\n",
        "print(out.shape)"
      ],
      "metadata": {
        "id": "4_RM-VM-AluQ"
      },
      "execution_count": 67,
      "outputs": []
    },
    {
      "cell_type": "code",
      "source": [],
      "metadata": {
        "id": "KU-Mzv6gAtK3"
      },
      "execution_count": null,
      "outputs": []
    }
  ]
}